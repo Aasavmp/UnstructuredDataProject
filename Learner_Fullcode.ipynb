{
  "cells": [
    {
      "cell_type": "markdown",
      "metadata": {
        "id": "zk8FK95YMVwn"
      },
      "source": [
        "## Note: This is a sample solution for the project. Projects will NOT be graded on the basis of how well the submission matches this sample solution. Projects will be graded on the basis of the rubric only."
      ]
    },
    {
      "cell_type": "markdown",
      "source": [
        "# **Problem Statement**"
      ],
      "metadata": {
        "id": "udFueey19iKY"
      }
    },
    {
      "cell_type": "markdown",
      "metadata": {
        "id": "pOeqRPd1MVwp"
      },
      "source": [
        "\n",
        "---\n",
        "\n",
        "#### **Business Context**  \n",
        "Understanding customer personality and behavior is pivotal for businesses to enhance customer satisfaction and increase revenue. Segmentation based on a customer's personality, demographics, and purchasing behavior allows companies to create tailored marketing campaigns, improve customer retention, and optimize product offerings.  \n",
        "\n",
        "A leading retail company with a rapidly growing customer base seeks to gain deeper insights into their customers' profiles. The company recognizes that understanding customer personalities, lifestyles, and purchasing habits can unlock significant opportunities for personalizing marketing strategies and creating loyalty programs. These insights can help address critical business challenges, such as improving the effectiveness of marketing campaigns, identifying high-value customer groups, and fostering long-term relationships with customers.  \n",
        "\n",
        "With the competition intensifying in the retail space, moving away from generic strategies to more targeted and personalized approaches is essential for sustaining a competitive edge.  \n",
        "\n",
        "---\n",
        "\n",
        "#### **Objective**  \n",
        "In an effort to optimize marketing efficiency and enhance customer experience, the company has embarked on a mission to identify distinct customer segments. By understanding the characteristics, preferences, and behaviors of each group, the company aims to:  \n",
        "1. Develop personalized marketing campaigns to increase conversion rates.  \n",
        "2. Create effective retention strategies for high-value customers.  \n",
        "3. Optimize resource allocation, such as inventory management, pricing strategies, and store layouts.  \n",
        "\n",
        "As a data scientist tasked with this project, your responsibility is to analyze the given customer data, apply machine learning techniques to segment the customer base, and provide actionable insights into the characteristics of each segment.  \n",
        "\n",
        "---\n",
        "\n",
        "#### **Data Dictionary**  \n",
        "The dataset includes historical data on customer demographics, personality traits, and purchasing behaviors. Key attributes are:  \n",
        "\n",
        "1. **Customer Information**  \n",
        "   - **ID:** Unique identifier for each customer.  \n",
        "   - **Year_Birth:** Customer's year of birth.  \n",
        "   - **Education:** Education level of the customer.  \n",
        "   - **Marital_Status:** Marital status of the customer.  \n",
        "   - **Income:** Yearly household income (in dollars).  \n",
        "   - **Kidhome:** Number of children in the household.  \n",
        "   - **Teenhome:** Number of teenagers in the household.  \n",
        "   - **Dt_Customer:** Date when the customer enrolled with the company.  \n",
        "   - **Recency:** Number of days since the customer’s last purchase.  \n",
        "   - **Complain:** Whether the customer complained in the last 2 years (1 for yes, 0 for no).  \n",
        "\n",
        "2. **Spending Information (Last 2 Years)**  \n",
        "   - **MntWines:** Amount spent on wine.  \n",
        "   - **MntFruits:** Amount spent on fruits.  \n",
        "   - **MntMeatProducts:** Amount spent on meat.  \n",
        "   - **MntFishProducts:** Amount spent on fish.  \n",
        "   - **MntSweetProducts:** Amount spent on sweets.  \n",
        "   - **MntGoldProds:** Amount spent on gold products.  \n",
        "\n",
        "3. **Purchase and Campaign Interaction**  \n",
        "   - **NumDealsPurchases:** Number of purchases made using a discount.  \n",
        "   - **AcceptedCmp1:** Response to the 1st campaign (1 for yes, 0 for no).  \n",
        "   - **AcceptedCmp2:** Response to the 2nd campaign (1 for yes, 0 for no).  \n",
        "   - **AcceptedCmp3:** Response to the 3rd campaign (1 for yes, 0 for no).  \n",
        "   - **AcceptedCmp4:** Response to the 4th campaign (1 for yes, 0 for no).  \n",
        "   - **AcceptedCmp5:** Response to the 5th campaign (1 for yes, 0 for no).  \n",
        "   - **Response:** Response to the last campaign (1 for yes, 0 for no).  \n",
        "\n",
        "4. **Shopping Behavior**  \n",
        "   - **NumWebPurchases:** Number of purchases made through the company’s website.  \n",
        "   - **NumCatalogPurchases:** Number of purchases made using catalogs.  \n",
        "   - **NumStorePurchases:** Number of purchases made directly in stores.  \n",
        "   - **NumWebVisitsMonth:** Number of visits to the company’s website in the last month.  "
      ]
    },
    {
      "cell_type": "markdown",
      "metadata": {
        "id": "iM29eMvG9MQ6"
      },
      "source": [
        "# **Let's start coding!**"
      ]
    },
    {
      "cell_type": "markdown",
      "metadata": {
        "id": "LlFQCg9GMVwq"
      },
      "source": [
        "## **Importing necessary libraries**"
      ]
    },
    {
      "cell_type": "code",
      "execution_count": null,
      "metadata": {
        "id": "E1k8KpWWMVwr"
      },
      "outputs": [],
      "source": [
        "\n",
        "\n",
        "# Libraries to help with reading and manipulating data\n",
        "import pandas as pd\n",
        "import numpy as np\n",
        "\n",
        "# libaries to help with data visualization\n",
        "import matplotlib.pyplot as plt\n",
        "import seaborn as sns\n",
        "\n",
        "# Removes the limit for the number of displayed columns\n",
        "pd.set_option(\"display.max_columns\", None)\n",
        "# Sets the limit for the number of displayed rows\n",
        "pd.set_option(\"display.max_rows\", 200)\n",
        "\n",
        "# to scale the data using z-score\n",
        "from sklearn.preprocessing import StandardScaler\n",
        "\n",
        "# to compute distances\n",
        "from scipy.spatial.distance import cdist, pdist\n",
        "\n",
        "# to perform k-means clustering and compute silhouette scores\n",
        "from sklearn.cluster import KMeans\n",
        "from sklearn.metrics import silhouette_score\n",
        "\n",
        "# to visualize the elbow curve and silhouette scores\n",
        "from yellowbrick.cluster import KElbowVisualizer, SilhouetteVisualizer\n",
        "\n",
        "# to perform hierarchical clustering, compute cophenetic correlation, and create dendrograms\n",
        "from sklearn.cluster import AgglomerativeClustering\n",
        "from scipy.cluster.hierarchy import dendrogram, linkage, cophenet\n",
        "\n",
        "# to suppress warnings\n",
        "import warnings\n",
        "\n",
        "warnings.filterwarnings(\"ignore\")"
      ]
    },
    {
      "cell_type": "markdown",
      "metadata": {
        "id": "a_DYpW_2-tbw"
      },
      "source": [
        "## **Loading the data**"
      ]
    },
    {
      "cell_type": "code",
      "execution_count": null,
      "metadata": {
        "id": "TUsuszpa-sBQ"
      },
      "outputs": [],
      "source": [
        "# uncomment and run the following line if using Google Colab\n",
        "# from google.colab import drive\n",
        "# drive.mount('/content/drive')"
      ]
    },
    {
      "cell_type": "code",
      "execution_count": null,
      "metadata": {
        "id": "55nYClUvBLCA"
      },
      "outputs": [],
      "source": [
        "# loading data into a pandas dataframe\n",
        "data = pd.read_csv(\"/content/marketing_campaign.csv\", sep=\"\\t\")"
      ]
    },
    {
      "cell_type": "markdown",
      "metadata": {
        "id": "WxMJ3GQPBcGo"
      },
      "source": [
        "## **Data Overview**"
      ]
    },
    {
      "cell_type": "markdown",
      "metadata": {
        "id": "XQQdKVLDB35N"
      },
      "source": [
        "#### **Question 1**: What are the data types of all the columns?"
      ]
    },
    {
      "cell_type": "code",
      "execution_count": null,
      "metadata": {
        "id": "c51TUBnOB4Y2"
      },
      "outputs": [],
      "source": [
        "# Write your code here."
      ]
    },
    {
      "cell_type": "markdown",
      "source": [
        "##### **Observations:**"
      ],
      "metadata": {
        "id": "O3zsMln3G1Os"
      }
    },
    {
      "cell_type": "markdown",
      "metadata": {
        "id": "6-28SIAfCVMe"
      },
      "source": [
        "#### **Question 2:** Check the statistical summary of the data. What is the average household income?"
      ]
    },
    {
      "cell_type": "code",
      "execution_count": null,
      "metadata": {
        "id": "17Tuqgl1B-oS"
      },
      "outputs": [],
      "source": [
        "# Write your code here"
      ]
    },
    {
      "cell_type": "markdown",
      "source": [
        "##### **Observations:**"
      ],
      "metadata": {
        "id": "tm7xgdm_G_oe"
      }
    },
    {
      "cell_type": "markdown",
      "metadata": {
        "id": "kb7w3wFoCjH4"
      },
      "source": [
        "#### **Question 3:** Are there any missing values in the data? If yes, treat them using an appropriate method"
      ]
    },
    {
      "cell_type": "code",
      "execution_count": null,
      "metadata": {
        "id": "U_33Ii_BCXOn"
      },
      "outputs": [],
      "source": [
        "# Write your code here"
      ]
    },
    {
      "cell_type": "markdown",
      "source": [
        "##### **Observations:**"
      ],
      "metadata": {
        "id": "LBpZtszpHD9y"
      }
    },
    {
      "cell_type": "markdown",
      "metadata": {
        "id": "DfLSMAftCwfE"
      },
      "source": [
        "#### **Question 4**: Are there any duplicates in the data?"
      ]
    },
    {
      "cell_type": "code",
      "execution_count": null,
      "metadata": {
        "id": "GRN6QDkoCl77"
      },
      "outputs": [],
      "source": [
        "# Write your code here"
      ]
    },
    {
      "cell_type": "markdown",
      "source": [
        "##### **Observations:**"
      ],
      "metadata": {
        "id": "n5rIg0McHG9R"
      }
    },
    {
      "cell_type": "markdown",
      "metadata": {
        "id": "zVs2KhFoC7M2"
      },
      "source": [
        "## **Exploratory Data Analysis**"
      ]
    },
    {
      "cell_type": "markdown",
      "metadata": {
        "id": "BUsvzq6xC-AQ"
      },
      "source": [
        "### Univariate Analysis"
      ]
    },
    {
      "cell_type": "markdown",
      "source": [
        "#### **Question 5:** Explore all the variables and provide observations on their distributions. (histograms and boxplots)"
      ],
      "metadata": {
        "id": "yhL77kccNrMS"
      }
    },
    {
      "cell_type": "code",
      "execution_count": null,
      "metadata": {
        "id": "ndFe6Y9uD1e6"
      },
      "outputs": [],
      "source": [
        "# Write your code here"
      ]
    },
    {
      "cell_type": "markdown",
      "source": [
        "##### **Observations:**"
      ],
      "metadata": {
        "id": "CXWeXtTvHK4m"
      }
    },
    {
      "cell_type": "markdown",
      "metadata": {
        "id": "qiwwWE7sMVwx"
      },
      "source": [
        "### Bivariate Analysis"
      ]
    },
    {
      "cell_type": "markdown",
      "source": [
        "#### **Question 6:** Perform multivariate analysis to explore the relationsips between the variables."
      ],
      "metadata": {
        "id": "OZ6ytyGJPwmu"
      }
    },
    {
      "cell_type": "code",
      "execution_count": null,
      "metadata": {
        "id": "bAXTv-ezMVwx"
      },
      "outputs": [],
      "source": [
        "# Write your code here"
      ]
    },
    {
      "cell_type": "markdown",
      "source": [
        "##### **Observations:**"
      ],
      "metadata": {
        "id": "xQonZGKmHPkI"
      }
    },
    {
      "cell_type": "markdown",
      "metadata": {
        "id": "_wcYp55TMVw7"
      },
      "source": [
        "## **K-means Clustering**"
      ]
    },
    {
      "cell_type": "markdown",
      "source": [
        "#### **Question 7** : Select the appropriate number of clusters using the elbow Plot. What do you think is the appropriate number of clusters?"
      ],
      "metadata": {
        "id": "ODsRrcixSeYl"
      }
    },
    {
      "cell_type": "code",
      "execution_count": null,
      "metadata": {
        "id": "7_ewfhqbMVw8"
      },
      "outputs": [],
      "source": [
        "# Write your code here"
      ]
    },
    {
      "cell_type": "markdown",
      "source": [
        "##### **Observations:**"
      ],
      "metadata": {
        "id": "3awhM0kRHTYs"
      }
    },
    {
      "cell_type": "markdown",
      "metadata": {
        "id": "9ORO0YfvMVw8"
      },
      "source": [
        "#### **Question 8** : finalize appropriate number of clusters by checking the silhoutte score as well. Is the answer different from the elbow plot?"
      ]
    },
    {
      "cell_type": "code",
      "execution_count": null,
      "metadata": {
        "scrolled": true,
        "id": "RmHZYprwMVw8"
      },
      "outputs": [],
      "source": [
        "# Write your code here"
      ]
    },
    {
      "cell_type": "markdown",
      "source": [
        "##### **Observations:**"
      ],
      "metadata": {
        "id": "-LWyE-0lHVu_"
      }
    },
    {
      "cell_type": "markdown",
      "source": [
        "#### **Question 9**: Do a final fit with the appropriate number of clusters. How much total time does it take for the model to fit the data?"
      ],
      "metadata": {
        "id": "HCVt8OmST_Ux"
      }
    },
    {
      "cell_type": "code",
      "source": [
        "# Write your code here"
      ],
      "metadata": {
        "id": "CJYaRvcAGPzB"
      },
      "execution_count": null,
      "outputs": []
    },
    {
      "cell_type": "markdown",
      "source": [
        "##### **Observations:**"
      ],
      "metadata": {
        "id": "S4iSgmXPHbFA"
      }
    },
    {
      "cell_type": "markdown",
      "metadata": {
        "id": "2TkDWCfcMVw-"
      },
      "source": [
        "## **Hierarchical Clustering**"
      ]
    },
    {
      "cell_type": "markdown",
      "source": [
        "#### **Question 10**: Calculate the cophnetic correlation for every combination of distance metrics and linkage. Which combination has the highest cophnetic correlation?"
      ],
      "metadata": {
        "id": "RM9tX5-HWFiz"
      }
    },
    {
      "cell_type": "code",
      "execution_count": null,
      "metadata": {
        "id": "9oYgU-DLMVw-"
      },
      "outputs": [],
      "source": [
        "# Write your code here"
      ]
    },
    {
      "cell_type": "markdown",
      "source": [
        "##### **Observations:**"
      ],
      "metadata": {
        "id": "7rzK8wNnHgMv"
      }
    },
    {
      "cell_type": "markdown",
      "metadata": {
        "id": "4kegyj3SMVw_"
      },
      "source": [
        "#### **Question 11**: plot the dendogram for every linkage method with \"Euclidean\" distance only. What should be the appropriate linkage according to the plot?"
      ]
    },
    {
      "cell_type": "code",
      "execution_count": null,
      "metadata": {
        "id": "FMBrce1_MVw_"
      },
      "outputs": [],
      "source": [
        "# Write your code here"
      ]
    },
    {
      "cell_type": "markdown",
      "source": [
        "##### **Observations:**"
      ],
      "metadata": {
        "id": "nSGlEaGzHhtC"
      }
    },
    {
      "cell_type": "markdown",
      "metadata": {
        "id": "W9u_SIxlMVxA"
      },
      "source": [
        "#### **Question 12:** Check the silhoutte score for the hierchial clustering. What should be the appropriate number of clusters according to this plot?"
      ]
    },
    {
      "cell_type": "code",
      "execution_count": null,
      "metadata": {
        "id": "fFHof72rMVxA"
      },
      "outputs": [],
      "source": [
        "# Write your code here"
      ]
    },
    {
      "cell_type": "markdown",
      "source": [
        "##### **Observations:**"
      ],
      "metadata": {
        "id": "hl07U12KHj4d"
      }
    },
    {
      "cell_type": "markdown",
      "metadata": {
        "id": "DKjb72OiMVxA"
      },
      "source": [
        "#### **Question 13**: Fit the Hierarchial clustering model with the appropriate parameters finalized above. How much time does it take to fit the model?"
      ]
    },
    {
      "cell_type": "code",
      "execution_count": null,
      "metadata": {
        "id": "E_NsA1gGMVxA"
      },
      "outputs": [],
      "source": [
        "# Write your code here"
      ]
    },
    {
      "cell_type": "markdown",
      "source": [
        "##### **Observations:**"
      ],
      "metadata": {
        "id": "XoDFdSwVHlh9"
      }
    },
    {
      "cell_type": "markdown",
      "metadata": {
        "id": "-ze6FoWwMVxA"
      },
      "source": [
        "## **Cluster Profiling and Comparison**"
      ]
    },
    {
      "cell_type": "markdown",
      "metadata": {
        "id": "0K9pBE63MVxB"
      },
      "source": [
        "### K-Means Clustering vs Hierarchical Clustering Comparison"
      ]
    },
    {
      "cell_type": "markdown",
      "source": [
        "#### **Question 14**: Perform and compare Cluster profiling on both algorithms using boxplots. Based on the all the observaions Which one of them provides better clustering?"
      ],
      "metadata": {
        "id": "1rEy7lq7gIgL"
      }
    },
    {
      "cell_type": "code",
      "execution_count": null,
      "metadata": {
        "id": "4n4rdw46MVxC",
        "collapsed": true
      },
      "outputs": [],
      "source": [
        "# Write your code here"
      ]
    },
    {
      "cell_type": "markdown",
      "source": [
        "##### **Observations:**"
      ],
      "metadata": {
        "id": "TbDp5gUQHnUE"
      }
    },
    {
      "cell_type": "markdown",
      "source": [
        "#### **Question 15**: Perform Cluster profiling on the data with the appropriate algorithm determined above using a barplot. What observations can be derived for each cluster from this plot?"
      ],
      "metadata": {
        "id": "CcqvrO63sOPP"
      }
    },
    {
      "cell_type": "code",
      "source": [
        "# Write your code here"
      ],
      "metadata": {
        "id": "IhDruHburkmt"
      },
      "execution_count": null,
      "outputs": []
    },
    {
      "cell_type": "markdown",
      "source": [
        "##### **Observations:**"
      ],
      "metadata": {
        "id": "-E1KV5Z9Horb"
      }
    },
    {
      "cell_type": "markdown",
      "source": [
        "## **Business Recommedations**"
      ],
      "metadata": {
        "id": "V8Ji5Y2a7IdK"
      }
    },
    {
      "cell_type": "markdown",
      "metadata": {
        "id": "IZDR5dTiMVxD"
      },
      "source": [
        "\n",
        "- We have seen that 3 clusters are distinctly formed using both methodologies and the clusters are analogous to each other.\n",
        "- Cluster 1 has premium customers with a high credit limit and more credit cards, indicating that they have more purchasing power. The customers in this group have a preference for online banking.\n",
        "- Cluster 0 has customers who prefer to visit the bank for their banking needs than doing business online or over the phone. They have an average credit limit and a moderate number of credit cards.\n",
        "- Cluster 2 has more overhead of customers calling in, and the bank may need to spend money on call centers.\n",
        "\n",
        "\n",
        "Here are **5–7 actionable business recommendations** based on the cluster profiling:\n",
        "\n",
        "---\n",
        "\n",
        "### **1. Focus on Retaining High-Value Customers (Cluster 3)**\n",
        "- **Offer Exclusive Loyalty Programs**: Provide tailored loyalty benefits, early access to products, and exclusive discounts to maintain engagement and drive repeat purchases.\n",
        "- **Upsell and Cross-Sell**: Introduce premium products or bundles targeting their high spending patterns across product categories like wines, gold products, and meats.\n",
        "- **Personalized Campaigns**: Use their high response rate to create personalized campaigns highlighting products they prefer.\n",
        "\n",
        "---\n",
        "\n",
        "### **2. Activate Potential in Moderate-Spending Customers (Cluster 2)**\n",
        "- **Incentivize Higher Engagement**: Offer targeted discounts or special offers to encourage increased spending and purchases across channels.\n",
        "- **Educate About Products**: Provide content (emails, guides, or social media) showcasing the value and uniqueness of products they don’t purchase frequently.\n",
        "- **Improve Campaign Effectiveness**: Refine campaign messaging based on their moderate response rate to increase acceptance.\n",
        "\n",
        "---\n",
        "\n",
        "### **3. Reengage Low-Value Customers (Cluster 1)**\n",
        "- **Win-Back Campaigns**: Implement campaigns specifically aimed at bringing back inactive customers, such as offering steep discounts or limited-time offers.\n",
        "- **Understand Barriers to Engagement**: Conduct surveys or collect feedback to identify reasons for their low purchases and disengagement.\n",
        "- **Promote Entry-Level Products**: Introduce affordable or trial-sized products to ease them into higher spending.\n",
        "\n",
        "---\n",
        "\n",
        "### **4. Convert Browsers into Buyers (Cluster 0)**\n",
        "- **Optimize Website Experience**: Since Cluster 0 has high website visits but low spending, improve website navigation, showcase popular products, and streamline the checkout process.\n",
        "- **Targeted Digital Campaigns**: Retarget these users with ads or emails featuring products they browsed but didn’t purchase.\n",
        "- **Offer Online-Exclusive Discounts**: Provide web-only discounts or promotions to convert visits into purchases.\n",
        "\n",
        "---\n",
        "\n",
        "### **5. Strengthen Digital and Multi-Channel Strategies**\n",
        "- **Seamless Omni-Channel Experience**: Ensure a consistent shopping experience across all channels (web, catalog, and store) to encourage cross-channel engagement, especially for Clusters 2 and 3.\n",
        "- **Digital Campaigns for All Clusters**: Focus on targeted digital campaigns, particularly for Clusters 0 and 2, as they have moderate to high online engagement.\n",
        "\n",
        "---\n",
        "\n",
        "### **6. Develop Campaigns to Boost Responses**\n",
        "- Use the insights from Clusters 2 and 3 (which show higher response rates) to refine campaign targeting and messaging. Emulate successful strategies used for Cluster 3 to increase responses across other segments.\n",
        "\n",
        "---\n",
        "\n",
        "### **7. Leverage Product-Specific Insights**\n",
        "- Promote popular categories (e.g., wines, gold products) to high-value clusters, while running introductory campaigns for less-engaged clusters to familiarize them with premium products.\n",
        "\n",
        "---\n",
        "\n",
        "By focusing on these strategies, the company can enhance engagement, increase revenue, and strengthen customer loyalty across all clusters."
      ]
    },
    {
      "cell_type": "code",
      "source": [],
      "metadata": {
        "id": "XrEjPVOXuEV-"
      },
      "execution_count": null,
      "outputs": []
    },
    {
      "cell_type": "code",
      "source": [],
      "metadata": {
        "id": "c03loZyzafDM"
      },
      "execution_count": null,
      "outputs": []
    }
  ],
  "metadata": {
    "kernelspec": {
      "display_name": "Python 3",
      "language": "python",
      "name": "python3"
    },
    "language_info": {
      "codemirror_mode": {
        "name": "ipython",
        "version": 3
      },
      "file_extension": ".py",
      "mimetype": "text/x-python",
      "name": "python",
      "nbconvert_exporter": "python",
      "pygments_lexer": "ipython3",
      "version": "3.8.8"
    },
    "colab": {
      "provenance": [],
      "collapsed_sections": [
        "udFueey19iKY",
        "LlFQCg9GMVwq",
        "a_DYpW_2-tbw",
        "XQQdKVLDB35N",
        "6-28SIAfCVMe",
        "kb7w3wFoCjH4",
        "DfLSMAftCwfE",
        "BUsvzq6xC-AQ",
        "yhL77kccNrMS",
        "qiwwWE7sMVwx",
        "OZ6ytyGJPwmu",
        "ODsRrcixSeYl",
        "9ORO0YfvMVw8",
        "HCVt8OmST_Ux",
        "RM9tX5-HWFiz",
        "4kegyj3SMVw_",
        "W9u_SIxlMVxA",
        "DKjb72OiMVxA",
        "1rEy7lq7gIgL",
        "CcqvrO63sOPP",
        "V8Ji5Y2a7IdK"
      ]
    }
  },
  "nbformat": 4,
  "nbformat_minor": 0
}